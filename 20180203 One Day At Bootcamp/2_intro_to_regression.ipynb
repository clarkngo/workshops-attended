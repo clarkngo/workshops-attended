{
 "cells": [
  {
   "cell_type": "markdown",
   "metadata": {
    "run_control": {
     "frozen": false,
     "read_only": false
    }
   },
   "source": [
    "# Intro to Linear Regression"
   ]
  },
  {
   "cell_type": "markdown",
   "metadata": {
    "run_control": {
     "frozen": false,
     "read_only": false
    }
   },
   "source": [
    "So what is linear regression? It's essentially trying to find a trend in the data. The result might look something like this:"
   ]
  },
  {
   "cell_type": "code",
   "execution_count": 5,
   "metadata": {},
   "outputs": [
    {
     "data": {
      "text/plain": [
       "array([  0. ,   0.5,   1. ,   1.5,   2. ,   2.5,   3. ,   3.5,   4. ,\n",
       "         4.5,   5. ,   5.5,   6. ,   6.5,   7. ,   7.5,   8. ,   8.5,\n",
       "         9. ,   9.5,  10. ])"
      ]
     },
     "execution_count": 5,
     "metadata": {},
     "output_type": "execute_result"
    }
   ],
   "source": [
    "import numpy as np\n",
    "import matplotlib.pyplot as plt\n",
    "%matplotlib inline\n",
    "\n",
    "raw_inputs = np.linspace(0,10,21)\n",
    "raw_inputs"
   ]
  },
  {
   "cell_type": "code",
   "execution_count": 7,
   "metadata": {},
   "outputs": [
    {
     "data": {
      "text/plain": [
       "[-0.31086159717291612,\n",
       " 0.30241083692378457,\n",
       " 0.93531796735786032,\n",
       " 1.7492674244372581,\n",
       " 2.1425906372840982,\n",
       " 2.5652269618715291,\n",
       " 2.79750648920374,\n",
       " 2.7122019228267922,\n",
       " 4.4336719593345757,\n",
       " 3.9067833955381746,\n",
       " 4.8343109723504378,\n",
       " 5.922934337376522,\n",
       " 5.8460649015816513,\n",
       " 6.0527689734654686,\n",
       " 7.1965010716636462,\n",
       " 6.4919149774490679,\n",
       " 7.9058797361333255,\n",
       " 8.2888536604773702,\n",
       " 8.089420311578424,\n",
       " 8.7616020856254853,\n",
       " 10.526363375449357]"
      ]
     },
     "execution_count": 7,
     "metadata": {},
     "output_type": "execute_result"
    }
   ],
   "source": [
    "x = []\n",
    "y = []\n",
    "for val in raw_inputs:\n",
    "    x.append(val)\n",
    "    y.append(val + np.random.normal(0,0.4))\n",
    "y"
   ]
  },
  {
   "cell_type": "code",
   "execution_count": 8,
   "metadata": {
    "scrolled": true
   },
   "outputs": [
    {
     "data": {
      "text/plain": [
       "array([[  0. ],\n",
       "       [  0.5],\n",
       "       [  1. ],\n",
       "       [  1.5],\n",
       "       [  2. ],\n",
       "       [  2.5],\n",
       "       [  3. ],\n",
       "       [  3.5],\n",
       "       [  4. ],\n",
       "       [  4.5],\n",
       "       [  5. ],\n",
       "       [  5.5],\n",
       "       [  6. ],\n",
       "       [  6.5],\n",
       "       [  7. ],\n",
       "       [  7.5],\n",
       "       [  8. ],\n",
       "       [  8.5],\n",
       "       [  9. ],\n",
       "       [  9.5],\n",
       "       [ 10. ]])"
      ]
     },
     "execution_count": 8,
     "metadata": {},
     "output_type": "execute_result"
    }
   ],
   "source": [
    "x = np.array(x).reshape(-1,1)\n",
    "y = np.array(y).reshape(-1,1)\n",
    "x"
   ]
  },
  {
   "cell_type": "code",
   "execution_count": 12,
   "metadata": {
    "ExecuteTime": {
     "end_time": "2017-11-22T20:09:19.041979Z",
     "start_time": "2017-11-22T20:09:18.427808Z"
    },
    "run_control": {
     "frozen": false,
     "read_only": false
    }
   },
   "outputs": [
    {
     "data": {
      "text/plain": [
       "Text(0.5,1,'Example Linear Regression')"
      ]
     },
     "execution_count": 12,
     "metadata": {},
     "output_type": "execute_result"
    },
    {
     "data": {
      "image/png": "[encoded data removed]",
      "text/plain": [
       "<matplotlib.figure.Figure at 0x2c776300c18>"
      ]
     },
     "metadata": {},
     "output_type": "display_data"
    }
   ],
   "source": [
    "plt.scatter(x,y)\n",
    "plt.plot(raw_inputs,raw_inputs,'r')\n",
    "plt.xlabel(\"X\")\n",
    "plt.ylabel(\"Y\")\n",
    "plt.title(\"Example Linear Regression\")"
   ]
  },
  {
   "cell_type": "markdown",
   "metadata": {
    "run_control": {
     "frozen": false,
     "read_only": false
    }
   },
   "source": [
    "In simple problems, it's really easy to do this, but in more complicated problems we'll want to set up some sort of 'automated process' for finding the line. Basically, we want the machine to do it in a smart way so that we don't have to just eye-ball it. So how do we do that? Let's take a look at a method called **\"Ordinary Least Squares.\"**"
   ]
  },
  {
   "cell_type": "markdown",
   "metadata": {
    "run_control": {
     "frozen": false,
     "read_only": false
    }
   },
   "source": [
    "In ordinary least squares we're trying to get a sense of how much we missed each point by when using our model, and then make a better choice next time. Let's start out by telling our model to guess a flat line at `y = 5`."
   ]
  },
  {
   "cell_type": "code",
   "execution_count": 13,
   "metadata": {
    "ExecuteTime": {
     "end_time": "2017-11-22T20:09:19.897148Z",
     "start_time": "2017-11-22T20:09:19.690204Z"
    },
    "run_control": {
     "frozen": false,
     "read_only": false
    }
   },
   "outputs": [
    {
     "data": {
      "image/png": "[encoded data removed]",
      "text/plain": [
       "<matplotlib.figure.Figure at 0x7f2f36bf6828>"
      ]
     },
     "metadata": {},
     "output_type": "display_data"
    }
   ],
   "source": [
    "xpoint = x[3]\n",
    "ypoint = y[3]\n",
    "predictions = [5 for i in raw_inputs]\n",
    "ypred = predictions[3]\n",
    "\n",
    "plt.scatter(x,y)\n",
    "plt.plot(raw_inputs,predictions,'r')\n",
    "plt.plot([xpoint,xpoint],[ypred,ypoint],'k--',lw=4)\n",
    "plt.xlabel(\"X\")\n",
    "plt.ylabel(\"Y\")\n",
    "plt.title(\"Example Linear Regression\");"
   ]
  },
  {
   "cell_type": "markdown",
   "metadata": {
    "run_control": {
     "frozen": false,
     "read_only": false
    }
   },
   "source": [
    "The black, dashed line here shows how much we missed that point by! Let's add up all the amounts we missed by. For **Ordinary Least Square** we do this by adding up the error squared. \n",
    "\n",
    "This punishes us for missing values by a lot and rewards us for finding lots of small errors. So let's break it down:\n",
    "\n",
    "* Ordinary: We're not doing anything crazy, we're just using the regular errors (how much our model missed).\n",
    "* Least: We're trying to find a result that minimizes our errors.\n",
    "* Squares: We're using the square of the errors to optimize... really punishing us if we miss any values by a lot and rewarding us for errors < 1."
   ]
  },
  {
   "cell_type": "code",
   "execution_count": 18,
   "metadata": {},
   "outputs": [
    {
     "data": {
      "text/plain": [
       "17"
      ]
     },
     "execution_count": 18,
     "metadata": {},
     "output_type": "execute_result"
    }
   ],
   "source": [
    "def f(x,y):\n",
    "    return x*y-3\n",
    "f(4,5)"
   ]
  },
  {
   "cell_type": "code",
   "execution_count": 26,
   "metadata": {
    "ExecuteTime": {
     "end_time": "2017-11-22T20:09:20.382119Z",
     "start_time": "2017-11-22T20:09:20.369757Z"
    },
    "run_control": {
     "frozen": false,
     "read_only": false
    }
   },
   "outputs": [
    {
     "data": {
      "text/plain": [
       "array([ 159.33995464])"
      ]
     },
     "execution_count": 26,
     "metadata": {},
     "output_type": "execute_result"
    }
   ],
   "source": [
    "def get_error(true_y, predictions):\n",
    "    error = 0\n",
    "    for y, pred in zip(true_y,predictions):\n",
    "        error += (y-pred)*(y-pred)\n",
    "    return error\n",
    "\n",
    "get_error(y,predictions)"
   ]
  },
  {
   "cell_type": "code",
   "execution_count": 23,
   "metadata": {},
   "outputs": [
    {
     "data": {
      "text/plain": [
       "[(1, 'a'), (2, 'b'), (3, 'c'), (4, 'd')]"
      ]
     },
     "execution_count": 23,
     "metadata": {},
     "output_type": "execute_result"
    }
   ],
   "source": [
    "a = [1,2,3,4,5]\n",
    "b = ['a','b','c','d']\n",
    "z = zip(a,b)\n",
    "list(z)"
   ]
  },
  {
   "cell_type": "markdown",
   "metadata": {
    "run_control": {
     "frozen": false,
     "read_only": false
    }
   },
   "source": [
    "We can see right away that our model isn't very good, and that error sets the baseline for what we need to do better than. Let's try something a bit more reasonable, let's assume some form of `y = m*x + b` the classic formula for a line. Let's choose m = 0.5 and b = 0."
   ]
  },
  {
   "cell_type": "code",
   "execution_count": 29,
   "metadata": {
    "ExecuteTime": {
     "end_time": "2017-11-22T20:09:21.597484Z",
     "start_time": "2017-11-22T20:09:21.338587Z"
    },
    "run_control": {
     "frozen": false,
     "read_only": false
    }
   },
   "outputs": [
    {
     "data": {
      "image/png": "[encoded data removed]",
      "text/plain": [
       "<matplotlib.figure.Figure at 0x2c77631f860>"
      ]
     },
     "metadata": {},
     "output_type": "display_data"
    }
   ],
   "source": [
    "xpoint = x[3]\n",
    "ypoint = y[3]\n",
    "m = 0.8\n",
    "b = 0.\n",
    "predictions = [b+m*i for i in raw_inputs] # THIS LINE CHANGES\n",
    "ypred = predictions[3]\n",
    "\n",
    "plt.scatter(x,y)\n",
    "plt.plot(raw_inputs,predictions,'r')\n",
    "plt.plot([xpoint,xpoint],[ypred,ypoint],'k--',lw=4)\n",
    "plt.xlabel(\"X\")\n",
    "plt.ylabel(\"Y\")\n",
    "plt.title(\"Slightly Better Linear Regression\");"
   ]
  },
  {
   "cell_type": "markdown",
   "metadata": {
    "run_control": {
     "frozen": false,
     "read_only": false
    }
   },
   "source": [
    "Hey, that looks better! What's the error look like? "
   ]
  },
  {
   "cell_type": "code",
   "execution_count": 28,
   "metadata": {
    "ExecuteTime": {
     "end_time": "2017-11-22T20:09:22.485940Z",
     "start_time": "2017-11-22T20:09:22.477863Z"
    },
    "run_control": {
     "frozen": false,
     "read_only": false
    }
   },
   "outputs": [
    {
     "data": {
      "text/plain": [
       "array([ 159.33995464])"
      ]
     },
     "execution_count": 28,
     "metadata": {},
     "output_type": "execute_result"
    }
   ],
   "source": [
    "get_error(y,predictions)"
   ]
  },
  {
   "cell_type": "markdown",
   "metadata": {
    "run_control": {
     "frozen": false,
     "read_only": false
    }
   },
   "source": [
    "It's gone down a little bit! Nice. We're headed in the right direction. So why don't we just make a function out of it and see what we can do. Lets try making our line steeper over and over to find the best line (since we can see that's the right move)."
   ]
  },
  {
   "cell_type": "code",
   "execution_count": 30,
   "metadata": {},
   "outputs": [
    {
     "data": {
      "text/plain": [
       "array([ 672.81194882])"
      ]
     },
     "execution_count": 30,
     "metadata": {},
     "output_type": "execute_result"
    }
   ],
   "source": [
    "# Initialize the program so that we can start it!\n",
    "prev_error = 10000\n",
    "slope = 0.0\n",
    "\n",
    "# Start with a line that's all 0's and get the error there.\n",
    "predictions = [0+slope*i for i in raw_inputs]\n",
    "current_error = get_error(y,predictions)\n",
    "current_error"
   ]
  },
  {
   "cell_type": "code",
   "execution_count": 31,
   "metadata": {},
   "outputs": [
    {
     "data": {
      "image/png": "[encoded data removed]",
      "text/plain": [
       "<matplotlib.figure.Figure at 0x2c77647cd68>"
      ]
     },
     "metadata": {},
     "output_type": "display_data"
    }
   ],
   "source": [
    "# Now we loop through and see if we're getting better or worse errors!\n",
    "# If we get worse errors, we'll stop trying to go higher. This is an over-simplification\n",
    "# but we're going to use it for demo purposes.\n",
    "while current_error < prev_error:\n",
    "    prev_error = current_error\n",
    "    slope += 0.1\n",
    "    predictions = [0+slope*i for i in raw_inputs]\n",
    "    current_error = get_error(y,predictions)\n",
    "    # Uncomment below to see all the lines being tried before we stop!\n",
    "    plt.plot(raw_inputs,predictions,'b',alpha=slope-.1)\n",
    "    "
   ]
  },
  {
   "cell_type": "code",
   "execution_count": 32,
   "metadata": {},
   "outputs": [
    {
     "data": {
      "text/plain": [
       "array([ 16.72356163])"
      ]
     },
     "execution_count": 32,
     "metadata": {},
     "output_type": "execute_result"
    }
   ],
   "source": [
    "current_error"
   ]
  },
  {
   "cell_type": "code",
   "execution_count": 33,
   "metadata": {
    "ExecuteTime": {
     "end_time": "2017-11-22T20:09:34.082341Z",
     "start_time": "2017-11-22T20:09:33.849720Z"
    },
    "run_control": {
     "frozen": false,
     "read_only": false
    }
   },
   "outputs": [
    {
     "name": "stdout",
     "output_type": "stream",
     "text": [
      "The slope we found is: 0.9999999999999999\n",
      "Our Error for this is:  [ 4.61796046]\n"
     ]
    },
    {
     "data": {
      "image/png": "[encoded data removed]",
      "text/plain": [
       "<matplotlib.figure.Figure at 0x2c77645b9b0>"
      ]
     },
     "metadata": {},
     "output_type": "display_data"
    }
   ],
   "source": [
    "# Remove the last step since it made it worse.\n",
    "slope -=0.1\n",
    "predictions = [0+slope*i for i in raw_inputs]\n",
    "current_error = get_error(y,predictions)\n",
    "ypred = predictions[3]\n",
    "    \n",
    "# Now print our results\n",
    "print(\"The slope we found is:\", slope)\n",
    "plt.scatter(x,y)\n",
    "plt.plot(raw_inputs,predictions,'r')\n",
    "plt.plot([xpoint,xpoint],[ypred,ypoint],'k--',lw=4)\n",
    "plt.xlabel(\"X\")\n",
    "plt.ylabel(\"Y\")\n",
    "plt.title(\"Example Linear Regression\");\n",
    "print(\"Our Error for this is: \", get_error(y,predictions))"
   ]
  },
  {
   "cell_type": "markdown",
   "metadata": {},
   "source": [
    "What does this look like in actions? Let's check out a GIF of the fitting procedure (on a slightly different, but still randomly generated dataset just like above):\n",
    "\n",
    "<img src=\"http://zwmiller.com/images/linear_reg.gif\">"
   ]
  },
  {
   "cell_type": "markdown",
   "metadata": {
    "run_control": {
     "frozen": false,
     "read_only": false
    }
   },
   "source": [
    "Woo! That worked out. We've made some stupid assumptions (like the slope must be positive and bigger than 0) but that's just because we wanted to make a naive program. So let's get back to ordinary least squares - we've essentially just done a big portion of it. We computed some error term, and tried to **optimize** our line by making the errors as small as possible. "
   ]
  },
  {
   "cell_type": "markdown",
   "metadata": {
    "run_control": {
     "frozen": false,
     "read_only": false
    }
   },
   "source": [
    "That's essentially what all of regression is. Now, where it get's crazy is that we can have a line that's in 3D and we'd need to have many slopes to find that line. So we might get an equation like:\n",
    "\n",
    "`y = slope_0 * x0 + slope_1 * x1`\n",
    "\n",
    "The great thing is, our methodology works for that. We still just calculate our error and then try to adjust BOTH slopes to make the smallest error possible. This could work even if we have 100 features (x-variables)... we'd just have to adjust 100 slopes. So our regression pipeline (after initializing our model) is always:\n",
    "\n",
    "1. Calculate the error with our initial slopes\n",
    "2. Adjust the slopes a little bit to make the error smaller\n",
    "3. Check the error again\n",
    "4. Repeat steps 2 & 3 until we can't make the error any smaller\n",
    "\n",
    "We'll see that SkLearn can do all of this behind the scenes for us, so we can focus more on the real-world side of things... like understanding the data and feeding it to the model in a smart way.\n",
    "\n",
    "### Linear Regression solved by Linear Algebra\n",
    "\n",
    "The slope values can be obtained using Linear Algebra:\n",
    "\n",
    "$slope = (X^TX)^{-1}X^Ty$\n",
    "\n",
    "However, for large matrices this can be computationally expensive.  Therefore, we use other techniques that go beyond the scope of this notebook, such a Gradient Descent."
   ]
  },
  {
   "cell_type": "markdown",
   "metadata": {
    "run_control": {
     "frozen": false,
     "read_only": false
    }
   },
   "source": [
    "### Regularization (A sidenote)"
   ]
  },
  {
   "cell_type": "markdown",
   "metadata": {
    "run_control": {
     "frozen": false,
     "read_only": false
    }
   },
   "source": [
    "So everything I've just told you works really well for small numbers of features. But what if we have thousands of features? We could do what we did with _pandas_ yesterday and try to find things that are at least somewhat correlated and use those to make the decision, leaving out things that are junk. Sometimes, that's really hard to do though. Luckily for us, there's a concept called regularization. You'll see it in SkLearn being called **Lasso** or **Ridge** regression. Both of those are different ways of doing the same thing... which is adding an extra bit to the error calculation that penalizes our model for using too many features. The mathematics are a bit sticky, so we'll skip those. The basic idea is that we tell our model, \"I want you to learn about the data, but if you use too many X's and slopes that's not good for me. So instead, try to balance a good error value with using all the X's.\" This helps us fight over-fitting, which we'll touch on just a bit when we talk about Train-Test splitting. \n",
    "\n",
    "For now, just keep in mind that **Lasso** and **Ridge** regression exist and can be useful models to play with when we have a lot of data and features."
   ]
  },
  {
   "cell_type": "code",
   "execution_count": null,
   "metadata": {
    "collapsed": true
   },
   "outputs": [],
   "source": []
  }
 ],
 "metadata": {
  "kernelspec": {
   "display_name": "Python 3",
   "language": "python",
   "name": "python3"
  },
  "language_info": {
   "codemirror_mode": {
    "name": "ipython",
    "version": 3
   },
   "file_extension": ".py",
   "mimetype": "text/x-python",
   "name": "python",
   "nbconvert_exporter": "python",
   "pygments_lexer": "ipython3",
   "version": "3.6.3"
  },
  "latex_envs": {
   "LaTeX_envs_menu_present": true,
   "bibliofile": "biblio.bib",
   "cite_by": "apalike",
   "current_citInitial": 1,
   "eqLabelWithNumbers": true,
   "eqNumInitial": 1,
   "hotkeys": {
    "equation": "Ctrl-E",
    "itemize": "Ctrl-I"
   },
   "labels_anchors": false,
   "latex_user_defs": false,
   "report_style_numbering": false,
   "user_envs_cfg": false
  },
  "toc": {
   "nav_menu": {
    "height": "48px",
    "width": "252px"
   },
   "number_sections": true,
   "sideBar": true,
   "skip_h1_title": false,
   "toc_cell": false,
   "toc_position": {},
   "toc_section_display": "block",
   "toc_window_display": false
  }
 },
 "nbformat": 4,
 "nbformat_minor": 2
}
