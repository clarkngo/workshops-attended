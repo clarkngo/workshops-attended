{
 "cells": [
  {
   "cell_type": "markdown",
   "metadata": {},
   "source": [
    "# Predicting House Prices - A case study with SciKit Learn and Pandas"
   ]
  },
  {
   "cell_type": "markdown",
   "metadata": {},
   "source": [
    "## Introduction to Pandas"
   ]
  },
  {
   "cell_type": "markdown",
   "metadata": {},
   "source": [
    "Pandas is a module in Python that is great for handling lots of data. We'll be relying on it today to help us sort, reshape, and clean up our data. \n",
    "\n",
    "> **From the Pandas documentation:**\n",
    ">\n",
    "> Here are just a few of the things that pandas does well:\n",
    ">\n",
    "> - Easy handling of **missing data** (represented as NaN) in floating point as well as non-floating point data\n",
    "- Size mutability: columns can be **inserted and deleted** from DataFrame and higher dimensional objects\n",
    "- Automatic and explicit **data alignment**: objects can be explicitly aligned to a set of labels, or the user can simply ignore the labels and let Series, DataFrame, etc. automatically align the data for you in computations\n",
    "- Powerful, flexible **group by** functionality to perform split-apply-combine operations on data sets, for both aggregating and transforming data\n",
    "- Make it **easy to convert** ragged, differently-indexed data in other Python and NumPy data structures into DataFrame objects\n",
    "- Intelligent **label-based slicing**, **fancy indexing**, and **subsetting** of large data sets\n",
    "- Intuitive **merging** and **joining** data sets\n",
    "- Flexible **reshaping** and **pivoting** of data sets\n",
    "- **Hierarchical labeling** of axes (possible to have multiple labels per tick)\n",
    "- **Robust IO tools** for loading data from flat files (CSV and delimited), Excel files, databases, and saving / loading data from the ultrafast HDF5 format\n",
    "- **Time series**-specific functionality: date range generation and frequency conversion, moving window statistics, moving window linear regressions, date shifting and lagging, etc.\n",
    "\n",
    "Let's get a sense of how it works with a test data set from a weather report."
   ]
  },
  {
   "cell_type": "code",
   "execution_count": 1,
   "metadata": {
    "ExecuteTime": {
     "end_time": "2017-11-14T16:47:02.379752Z",
     "start_time": "2017-11-14T16:47:01.289620Z"
    }
   },
   "outputs": [],
   "source": [
    "import pandas as pd # the pd is by convention\n",
    "import numpy as np # as is the np\n",
    "\n",
    "import matplotlib.pyplot as plt\n",
    "import seaborn as sns\n",
    "\n",
    "# To Plot matplotlib figures inline on the notebook\n",
    "%matplotlib inline"
   ]
  },
  {
   "cell_type": "markdown",
   "metadata": {},
   "source": [
    "The building blocks of pandas are called Series and DataFrames. A Dataframe is essentially a table, like shown below:"
   ]
  },
  {
   "cell_type": "markdown",
   "metadata": {},
   "source": [
    "<img src='images/dataframe.png'>"
   ]
  },
  {
   "cell_type": "markdown",
   "metadata": {},
   "source": [
    "Each row of the dataframe will be one specific record, and each column will be some aspect of that record. That will make more sense when we look at an example. Series are individual rows or columns (essentially if we break apart that dataframe into a single set of numbers). Let's look at that in action.\n",
    "\n",
    "To begin with, we're going to read in some data from a CSV."
   ]
  },
  {
   "cell_type": "code",
   "execution_count": 2,
   "metadata": {
    "ExecuteTime": {
     "end_time": "2017-11-14T16:47:12.143609Z",
     "start_time": "2017-11-14T16:47:12.115190Z"
    }
   },
   "outputs": [
    {
     "data": {
      "text/html": [
       "<div>\n",
       "<style>\n",
       "    .dataframe thead tr:only-child th {\n",
       "        text-align: right;\n",
       "    }\n",
       "\n",
       "    .dataframe thead th {\n",
       "        text-align: left;\n",
       "    }\n",
       "\n",
       "    .dataframe tbody tr th {\n",
       "        vertical-align: top;\n",
       "    }\n",
       "</style>\n",
       "<table border=\"1\" class=\"dataframe\">\n",
       "  <thead>\n",
       "    <tr style=\"text-align: right;\">\n",
       "      <th></th>\n",
       "      <th>Date/Time</th>\n",
       "      <th>Temp (C)</th>\n",
       "      <th>Dew Point Temp (C)</th>\n",
       "      <th>Rel Hum (%)</th>\n",
       "      <th>Wind Spd (km/h)</th>\n",
       "      <th>Visibility (km)</th>\n",
       "      <th>Stn Press (kPa)</th>\n",
       "      <th>Weather</th>\n",
       "    </tr>\n",
       "  </thead>\n",
       "  <tbody>\n",
       "    <tr>\n",
       "      <th>0</th>\n",
       "      <td>2012-01-01 00:00:00</td>\n",
       "      <td>-1.8</td>\n",
       "      <td>-3.9</td>\n",
       "      <td>86</td>\n",
       "      <td>4</td>\n",
       "      <td>8.0</td>\n",
       "      <td>101.24</td>\n",
       "      <td>Fog</td>\n",
       "    </tr>\n",
       "    <tr>\n",
       "      <th>1</th>\n",
       "      <td>2012-01-01 01:00:00</td>\n",
       "      <td>-1.8</td>\n",
       "      <td>-3.7</td>\n",
       "      <td>87</td>\n",
       "      <td>4</td>\n",
       "      <td>8.0</td>\n",
       "      <td>101.24</td>\n",
       "      <td>Fog</td>\n",
       "    </tr>\n",
       "    <tr>\n",
       "      <th>2</th>\n",
       "      <td>2012-01-01 02:00:00</td>\n",
       "      <td>-1.8</td>\n",
       "      <td>-3.4</td>\n",
       "      <td>89</td>\n",
       "      <td>7</td>\n",
       "      <td>4.0</td>\n",
       "      <td>101.26</td>\n",
       "      <td>Freezing Drizzle,Fog</td>\n",
       "    </tr>\n",
       "    <tr>\n",
       "      <th>3</th>\n",
       "      <td>2012-01-01 03:00:00</td>\n",
       "      <td>-1.5</td>\n",
       "      <td>-3.2</td>\n",
       "      <td>88</td>\n",
       "      <td>6</td>\n",
       "      <td>4.0</td>\n",
       "      <td>101.27</td>\n",
       "      <td>Freezing Drizzle,Fog</td>\n",
       "    </tr>\n",
       "    <tr>\n",
       "      <th>4</th>\n",
       "      <td>2012-01-01 04:00:00</td>\n",
       "      <td>-1.5</td>\n",
       "      <td>-3.3</td>\n",
       "      <td>88</td>\n",
       "      <td>7</td>\n",
       "      <td>4.8</td>\n",
       "      <td>101.23</td>\n",
       "      <td>Fog</td>\n",
       "    </tr>\n",
       "  </tbody>\n",
       "</table>\n",
       "</div>"
      ],
      "text/plain": [
       "             Date/Time  Temp (C)  Dew Point Temp (C)  Rel Hum (%)  \\\n",
       "0  2012-01-01 00:00:00      -1.8                -3.9           86   \n",
       "1  2012-01-01 01:00:00      -1.8                -3.7           87   \n",
       "2  2012-01-01 02:00:00      -1.8                -3.4           89   \n",
       "3  2012-01-01 03:00:00      -1.5                -3.2           88   \n",
       "4  2012-01-01 04:00:00      -1.5                -3.3           88   \n",
       "\n",
       "   Wind Spd (km/h)  Visibility (km)  Stn Press (kPa)               Weather  \n",
       "0                4              8.0           101.24                   Fog  \n",
       "1                4              8.0           101.24                   Fog  \n",
       "2                7              4.0           101.26  Freezing Drizzle,Fog  \n",
       "3                6              4.0           101.27  Freezing Drizzle,Fog  \n",
       "4                7              4.8           101.23                   Fog  "
      ]
     },
     "execution_count": 2,
     "metadata": {},
     "output_type": "execute_result"
    }
   ],
   "source": [
    "weather = pd.read_csv('data/weather.csv')\n",
    "weather.head()"
   ]
  },
  {
   "cell_type": "markdown",
   "metadata": {},
   "source": [
    "Here we got our table, and it shows us that we're looking at the hourly weather at some point. We can see that the temperature was below freezing for each of the first four hours, that there was some fog, and that it was a little bit windy. We used `weather.head()` to show us just the first few rows. Otherwise, it would show us a HUGE data amount. We can look at the last few rows with `weather.tail()`"
   ]
  },
  {
   "cell_type": "code",
   "execution_count": 3,
   "metadata": {
    "ExecuteTime": {
     "end_time": "2017-11-14T16:47:15.441385Z",
     "start_time": "2017-11-14T16:47:15.428187Z"
    }
   },
   "outputs": [
    {
     "data": {
      "text/html": [
       "<div>\n",
       "<style>\n",
       "    .dataframe thead tr:only-child th {\n",
       "        text-align: right;\n",
       "    }\n",
       "\n",
       "    .dataframe thead th {\n",
       "        text-align: left;\n",
       "    }\n",
       "\n",
       "    .dataframe tbody tr th {\n",
       "        vertical-align: top;\n",
       "    }\n",
       "</style>\n",
       "<table border=\"1\" class=\"dataframe\">\n",
       "  <thead>\n",
       "    <tr style=\"text-align: right;\">\n",
       "      <th></th>\n",
       "      <th>Date/Time</th>\n",
       "      <th>Temp (C)</th>\n",
       "      <th>Dew Point Temp (C)</th>\n",
       "      <th>Rel Hum (%)</th>\n",
       "      <th>Wind Spd (km/h)</th>\n",
       "      <th>Visibility (km)</th>\n",
       "      <th>Stn Press (kPa)</th>\n",
       "      <th>Weather</th>\n",
       "    </tr>\n",
       "  </thead>\n",
       "  <tbody>\n",
       "    <tr>\n",
       "      <th>8779</th>\n",
       "      <td>2012-12-31 19:00:00</td>\n",
       "      <td>0.1</td>\n",
       "      <td>-2.7</td>\n",
       "      <td>81</td>\n",
       "      <td>30</td>\n",
       "      <td>9.7</td>\n",
       "      <td>100.13</td>\n",
       "      <td>Snow</td>\n",
       "    </tr>\n",
       "    <tr>\n",
       "      <th>8780</th>\n",
       "      <td>2012-12-31 20:00:00</td>\n",
       "      <td>0.2</td>\n",
       "      <td>-2.4</td>\n",
       "      <td>83</td>\n",
       "      <td>24</td>\n",
       "      <td>9.7</td>\n",
       "      <td>100.03</td>\n",
       "      <td>Snow</td>\n",
       "    </tr>\n",
       "    <tr>\n",
       "      <th>8781</th>\n",
       "      <td>2012-12-31 21:00:00</td>\n",
       "      <td>-0.5</td>\n",
       "      <td>-1.5</td>\n",
       "      <td>93</td>\n",
       "      <td>28</td>\n",
       "      <td>4.8</td>\n",
       "      <td>99.95</td>\n",
       "      <td>Snow</td>\n",
       "    </tr>\n",
       "    <tr>\n",
       "      <th>8782</th>\n",
       "      <td>2012-12-31 22:00:00</td>\n",
       "      <td>-0.2</td>\n",
       "      <td>-1.8</td>\n",
       "      <td>89</td>\n",
       "      <td>28</td>\n",
       "      <td>9.7</td>\n",
       "      <td>99.91</td>\n",
       "      <td>Snow</td>\n",
       "    </tr>\n",
       "    <tr>\n",
       "      <th>8783</th>\n",
       "      <td>2012-12-31 23:00:00</td>\n",
       "      <td>0.0</td>\n",
       "      <td>-2.1</td>\n",
       "      <td>86</td>\n",
       "      <td>30</td>\n",
       "      <td>11.3</td>\n",
       "      <td>99.89</td>\n",
       "      <td>Snow</td>\n",
       "    </tr>\n",
       "  </tbody>\n",
       "</table>\n",
       "</div>"
      ],
      "text/plain": [
       "                Date/Time  Temp (C)  Dew Point Temp (C)  Rel Hum (%)  \\\n",
       "8779  2012-12-31 19:00:00       0.1                -2.7           81   \n",
       "8780  2012-12-31 20:00:00       0.2                -2.4           83   \n",
       "8781  2012-12-31 21:00:00      -0.5                -1.5           93   \n",
       "8782  2012-12-31 22:00:00      -0.2                -1.8           89   \n",
       "8783  2012-12-31 23:00:00       0.0                -2.1           86   \n",
       "\n",
       "      Wind Spd (km/h)  Visibility (km)  Stn Press (kPa) Weather  \n",
       "8779               30              9.7           100.13    Snow  \n",
       "8780               24              9.7           100.03    Snow  \n",
       "8781               28              4.8            99.95    Snow  \n",
       "8782               28              9.7            99.91    Snow  \n",
       "8783               30             11.3            99.89    Snow  "
      ]
     },
     "execution_count": 3,
     "metadata": {},
     "output_type": "execute_result"
    }
   ],
   "source": [
    "weather.tail()"
   ]
  },
  {
   "cell_type": "markdown",
   "metadata": {},
   "source": [
    "Now let's use a Pandas built-in function to learn a little about our data."
   ]
  },
  {
   "cell_type": "code",
   "execution_count": 4,
   "metadata": {
    "ExecuteTime": {
     "end_time": "2017-11-14T16:47:16.501632Z",
     "start_time": "2017-11-14T16:47:16.491680Z"
    }
   },
   "outputs": [
    {
     "name": "stdout",
     "output_type": "stream",
     "text": [
      "<class 'pandas.core.frame.DataFrame'>\n",
      "RangeIndex: 8784 entries, 0 to 8783\n",
      "Data columns (total 8 columns):\n",
      "Date/Time             8784 non-null object\n",
      "Temp (C)              8784 non-null float64\n",
      "Dew Point Temp (C)    8784 non-null float64\n",
      "Rel Hum (%)           8784 non-null int64\n",
      "Wind Spd (km/h)       8784 non-null int64\n",
      "Visibility (km)       8784 non-null float64\n",
      "Stn Press (kPa)       8784 non-null float64\n",
      "Weather               8784 non-null object\n",
      "dtypes: float64(4), int64(2), object(2)\n",
      "memory usage: 549.1+ KB\n"
     ]
    }
   ],
   "source": [
    "weather.info()"
   ]
  },
  {
   "cell_type": "markdown",
   "metadata": {},
   "source": [
    "We can also look to see how much of our data makes sense by asking it to look at the numeric columns and give us some stats about them."
   ]
  },
  {
   "cell_type": "code",
   "execution_count": 5,
   "metadata": {
    "ExecuteTime": {
     "end_time": "2017-11-14T16:47:17.921496Z",
     "start_time": "2017-11-14T16:47:17.897678Z"
    }
   },
   "outputs": [
    {
     "data": {
      "text/html": [
       "<div>\n",
       "<style>\n",
       "    .dataframe thead tr:only-child th {\n",
       "        text-align: right;\n",
       "    }\n",
       "\n",
       "    .dataframe thead th {\n",
       "        text-align: left;\n",
       "    }\n",
       "\n",
       "    .dataframe tbody tr th {\n",
       "        vertical-align: top;\n",
       "    }\n",
       "</style>\n",
       "<table border=\"1\" class=\"dataframe\">\n",
       "  <thead>\n",
       "    <tr style=\"text-align: right;\">\n",
       "      <th></th>\n",
       "      <th>Temp (C)</th>\n",
       "      <th>Dew Point Temp (C)</th>\n",
       "      <th>Rel Hum (%)</th>\n",
       "      <th>Wind Spd (km/h)</th>\n",
       "      <th>Visibility (km)</th>\n",
       "      <th>Stn Press (kPa)</th>\n",
       "    </tr>\n",
       "  </thead>\n",
       "  <tbody>\n",
       "    <tr>\n",
       "      <th>count</th>\n",
       "      <td>8784.000000</td>\n",
       "      <td>8784.000000</td>\n",
       "      <td>8784.000000</td>\n",
       "      <td>8784.000000</td>\n",
       "      <td>8784.000000</td>\n",
       "      <td>8784.000000</td>\n",
       "    </tr>\n",
       "    <tr>\n",
       "      <th>mean</th>\n",
       "      <td>8.798144</td>\n",
       "      <td>2.555294</td>\n",
       "      <td>67.431694</td>\n",
       "      <td>14.945469</td>\n",
       "      <td>27.664447</td>\n",
       "      <td>101.051623</td>\n",
       "    </tr>\n",
       "    <tr>\n",
       "      <th>std</th>\n",
       "      <td>11.687883</td>\n",
       "      <td>10.883072</td>\n",
       "      <td>16.918881</td>\n",
       "      <td>8.688696</td>\n",
       "      <td>12.622688</td>\n",
       "      <td>0.844005</td>\n",
       "    </tr>\n",
       "    <tr>\n",
       "      <th>min</th>\n",
       "      <td>-23.300000</td>\n",
       "      <td>-28.500000</td>\n",
       "      <td>18.000000</td>\n",
       "      <td>0.000000</td>\n",
       "      <td>0.200000</td>\n",
       "      <td>97.520000</td>\n",
       "    </tr>\n",
       "    <tr>\n",
       "      <th>25%</th>\n",
       "      <td>0.100000</td>\n",
       "      <td>-5.900000</td>\n",
       "      <td>56.000000</td>\n",
       "      <td>9.000000</td>\n",
       "      <td>24.100000</td>\n",
       "      <td>100.560000</td>\n",
       "    </tr>\n",
       "    <tr>\n",
       "      <th>50%</th>\n",
       "      <td>9.300000</td>\n",
       "      <td>3.300000</td>\n",
       "      <td>68.000000</td>\n",
       "      <td>13.000000</td>\n",
       "      <td>25.000000</td>\n",
       "      <td>101.070000</td>\n",
       "    </tr>\n",
       "    <tr>\n",
       "      <th>75%</th>\n",
       "      <td>18.800000</td>\n",
       "      <td>11.800000</td>\n",
       "      <td>81.000000</td>\n",
       "      <td>20.000000</td>\n",
       "      <td>25.000000</td>\n",
       "      <td>101.590000</td>\n",
       "    </tr>\n",
       "    <tr>\n",
       "      <th>max</th>\n",
       "      <td>33.000000</td>\n",
       "      <td>24.400000</td>\n",
       "      <td>100.000000</td>\n",
       "      <td>83.000000</td>\n",
       "      <td>48.300000</td>\n",
       "      <td>103.650000</td>\n",
       "    </tr>\n",
       "  </tbody>\n",
       "</table>\n",
       "</div>"
      ],
      "text/plain": [
       "          Temp (C)  Dew Point Temp (C)  Rel Hum (%)  Wind Spd (km/h)  \\\n",
       "count  8784.000000         8784.000000  8784.000000      8784.000000   \n",
       "mean      8.798144            2.555294    67.431694        14.945469   \n",
       "std      11.687883           10.883072    16.918881         8.688696   \n",
       "min     -23.300000          -28.500000    18.000000         0.000000   \n",
       "25%       0.100000           -5.900000    56.000000         9.000000   \n",
       "50%       9.300000            3.300000    68.000000        13.000000   \n",
       "75%      18.800000           11.800000    81.000000        20.000000   \n",
       "max      33.000000           24.400000   100.000000        83.000000   \n",
       "\n",
       "       Visibility (km)  Stn Press (kPa)  \n",
       "count      8784.000000      8784.000000  \n",
       "mean         27.664447       101.051623  \n",
       "std          12.622688         0.844005  \n",
       "min           0.200000        97.520000  \n",
       "25%          24.100000       100.560000  \n",
       "50%          25.000000       101.070000  \n",
       "75%          25.000000       101.590000  \n",
       "max          48.300000       103.650000  "
      ]
     },
     "execution_count": 5,
     "metadata": {},
     "output_type": "execute_result"
    }
   ],
   "source": [
    "weather.describe()"
   ]
  },
  {
   "cell_type": "code",
   "execution_count": null,
   "metadata": {
    "ExecuteTime": {
     "end_time": "2017-11-14T16:47:18.656232Z",
     "start_time": "2017-11-14T16:47:18.651317Z"
    }
   },
   "outputs": [],
   "source": [
    "weather.shape"
   ]
  },
  {
   "cell_type": "markdown",
   "metadata": {},
   "source": [
    "Great, looks like these are all behaving relatively as expected! That's lovely. Now let's learn how to grab some data from the DataFrame. Also, let's look at what a Series is. To start with, let's grab a column from our data."
   ]
  },
  {
   "cell_type": "code",
   "execution_count": 6,
   "metadata": {
    "ExecuteTime": {
     "end_time": "2017-11-14T16:47:20.039972Z",
     "start_time": "2017-11-14T16:47:20.030631Z"
    }
   },
   "outputs": [
    {
     "data": {
      "text/plain": [
       "0       -1.8\n",
       "1       -1.8\n",
       "2       -1.8\n",
       "3       -1.5\n",
       "4       -1.5\n",
       "5       -1.4\n",
       "6       -1.5\n",
       "7       -1.4\n",
       "8       -1.4\n",
       "9       -1.3\n",
       "10      -1.0\n",
       "11      -0.5\n",
       "12      -0.2\n",
       "13       0.2\n",
       "14       0.8\n",
       "15       1.8\n",
       "16       2.6\n",
       "17       3.0\n",
       "18       3.8\n",
       "19       3.1\n",
       "20       3.2\n",
       "21       4.0\n",
       "22       4.4\n",
       "23       5.3\n",
       "24       5.2\n",
       "25       4.6\n",
       "26       3.9\n",
       "27       3.7\n",
       "28       2.9\n",
       "29       2.6\n",
       "        ... \n",
       "8754   -12.6\n",
       "8755   -13.4\n",
       "8756   -13.8\n",
       "8757   -13.8\n",
       "8758   -13.7\n",
       "8759   -12.1\n",
       "8760   -11.1\n",
       "8761   -10.7\n",
       "8762   -10.1\n",
       "8763   -11.8\n",
       "8764   -10.5\n",
       "8765   -10.2\n",
       "8766    -9.7\n",
       "8767    -9.3\n",
       "8768    -8.6\n",
       "8769    -8.1\n",
       "8770    -7.4\n",
       "8771    -6.7\n",
       "8772    -5.8\n",
       "8773    -4.6\n",
       "8774    -3.4\n",
       "8775    -2.3\n",
       "8776    -1.4\n",
       "8777    -1.1\n",
       "8778    -1.3\n",
       "8779     0.1\n",
       "8780     0.2\n",
       "8781    -0.5\n",
       "8782    -0.2\n",
       "8783     0.0\n",
       "Name: Temp (C), Length: 8784, dtype: float64"
      ]
     },
     "execution_count": 6,
     "metadata": {},
     "output_type": "execute_result"
    }
   ],
   "source": [
    "weather['Temp (C)']"
   ]
  },
  {
   "cell_type": "markdown",
   "metadata": {},
   "source": [
    "This is a series! It has both the index (the left side) and the value. So we know which row it is and what the value is. That's pretty sweet. What can we do with a series? One really handy thing is getting the number of times a value shows up. Let's see that in action."
   ]
  },
  {
   "cell_type": "code",
   "execution_count": 7,
   "metadata": {
    "ExecuteTime": {
     "end_time": "2017-11-14T16:47:21.490914Z",
     "start_time": "2017-11-14T16:47:21.482159Z"
    }
   },
   "outputs": [
    {
     "data": {
      "text/plain": [
       "Mainly Clear                               2106\n",
       "Mostly Cloudy                              2069\n",
       "Cloudy                                     1728\n",
       "Clear                                      1326\n",
       "Snow                                        390\n",
       "Rain                                        306\n",
       "Rain Showers                                188\n",
       "Fog                                         150\n",
       "Rain,Fog                                    116\n",
       "Drizzle,Fog                                  80\n",
       "Snow Showers                                 60\n",
       "Drizzle                                      41\n",
       "Snow,Fog                                     37\n",
       "Snow,Blowing Snow                            19\n",
       "Rain,Snow                                    18\n",
       "Thunderstorms,Rain Showers                   16\n",
       "Haze                                         16\n",
       "Drizzle,Snow,Fog                             15\n",
       "Freezing Rain                                14\n",
       "Freezing Drizzle,Snow                        11\n",
       "Freezing Drizzle                              7\n",
       "Snow,Ice Pellets                              6\n",
       "Freezing Drizzle,Fog                          6\n",
       "Snow,Haze                                     5\n",
       "Moderate Snow                                 4\n",
       "Freezing Rain,Fog                             4\n",
       "Freezing Fog                                  4\n",
       "Rain,Snow,Ice Pellets                         4\n",
       "Snow Showers,Fog                              4\n",
       "Thunderstorms,Rain Showers,Fog                3\n",
       "Thunderstorms,Rain                            3\n",
       "Freezing Drizzle,Haze                         3\n",
       "Rain,Haze                                     3\n",
       "Thunderstorms                                 2\n",
       "Freezing Rain,Haze                            2\n",
       "Moderate Snow,Blowing Snow                    2\n",
       "Rain Showers,Snow Showers                     2\n",
       "Drizzle,Snow                                  2\n",
       "Snow Pellets                                  1\n",
       "Rain,Snow,Fog                                 1\n",
       "Thunderstorms,Moderate Rain Showers,Fog       1\n",
       "Moderate Rain,Fog                             1\n",
       "Thunderstorms,Rain,Fog                        1\n",
       "Rain Showers,Fog                              1\n",
       "Thunderstorms,Heavy Rain Showers              1\n",
       "Freezing Rain,Ice Pellets,Fog                 1\n",
       "Rain,Ice Pellets                              1\n",
       "Rain,Snow Grains                              1\n",
       "Drizzle,Ice Pellets,Fog                       1\n",
       "Freezing Rain,Snow Grains                     1\n",
       "Name: Weather, dtype: int64"
      ]
     },
     "execution_count": 7,
     "metadata": {},
     "output_type": "execute_result"
    }
   ],
   "source": [
    "weather['Weather'].value_counts()"
   ]
  },
  {
   "cell_type": "markdown",
   "metadata": {},
   "source": [
    "Cool. Now how do we access rows? We have to play a little bit of pandas games to do so. We'll use `.iloc` to do the job. Let's demonstrate by grabbing the first (0th) row."
   ]
  },
  {
   "cell_type": "code",
   "execution_count": 14,
   "metadata": {
    "ExecuteTime": {
     "end_time": "2017-11-14T16:47:22.960926Z",
     "start_time": "2017-11-14T16:47:22.955000Z"
    }
   },
   "outputs": [
    {
     "data": {
      "text/plain": [
       "Date/Time             2012-01-01 00:00:00\n",
       "Temp (C)                             -1.8\n",
       "Dew Point Temp (C)                   -3.9\n",
       "Rel Hum (%)                            86\n",
       "Wind Spd (km/h)                         4\n",
       "Visibility (km)                         8\n",
       "Stn Press (kPa)                    101.24\n",
       "Weather                               Fog\n",
       "Name: 0, dtype: object"
      ]
     },
     "execution_count": 14,
     "metadata": {},
     "output_type": "execute_result"
    }
   ],
   "source": [
    "weather.iloc[0]"
   ]
  },
  {
   "cell_type": "markdown",
   "metadata": {},
   "source": [
    "We can get multiple rows by following Python's conventions like so:"
   ]
  },
  {
   "cell_type": "code",
   "execution_count": 9,
   "metadata": {
    "ExecuteTime": {
     "end_time": "2017-11-14T16:47:23.925100Z",
     "start_time": "2017-11-14T16:47:23.911601Z"
    }
   },
   "outputs": [
    {
     "data": {
      "text/html": [
       "<div>\n",
       "<style>\n",
       "    .dataframe thead tr:only-child th {\n",
       "        text-align: right;\n",
       "    }\n",
       "\n",
       "    .dataframe thead th {\n",
       "        text-align: left;\n",
       "    }\n",
       "\n",
       "    .dataframe tbody tr th {\n",
       "        vertical-align: top;\n",
       "    }\n",
       "</style>\n",
       "<table border=\"1\" class=\"dataframe\">\n",
       "  <thead>\n",
       "    <tr style=\"text-align: right;\">\n",
       "      <th></th>\n",
       "      <th>Date/Time</th>\n",
       "      <th>Temp (C)</th>\n",
       "      <th>Dew Point Temp (C)</th>\n",
       "      <th>Rel Hum (%)</th>\n",
       "      <th>Wind Spd (km/h)</th>\n",
       "      <th>Visibility (km)</th>\n",
       "      <th>Stn Press (kPa)</th>\n",
       "      <th>Weather</th>\n",
       "    </tr>\n",
       "  </thead>\n",
       "  <tbody>\n",
       "    <tr>\n",
       "      <th>10</th>\n",
       "      <td>2012-01-01 10:00:00</td>\n",
       "      <td>-1.0</td>\n",
       "      <td>-2.3</td>\n",
       "      <td>91</td>\n",
       "      <td>9</td>\n",
       "      <td>1.2</td>\n",
       "      <td>101.15</td>\n",
       "      <td>Fog</td>\n",
       "    </tr>\n",
       "    <tr>\n",
       "      <th>11</th>\n",
       "      <td>2012-01-01 11:00:00</td>\n",
       "      <td>-0.5</td>\n",
       "      <td>-2.1</td>\n",
       "      <td>89</td>\n",
       "      <td>7</td>\n",
       "      <td>4.0</td>\n",
       "      <td>100.98</td>\n",
       "      <td>Fog</td>\n",
       "    </tr>\n",
       "    <tr>\n",
       "      <th>12</th>\n",
       "      <td>2012-01-01 12:00:00</td>\n",
       "      <td>-0.2</td>\n",
       "      <td>-2.0</td>\n",
       "      <td>88</td>\n",
       "      <td>9</td>\n",
       "      <td>4.8</td>\n",
       "      <td>100.79</td>\n",
       "      <td>Fog</td>\n",
       "    </tr>\n",
       "  </tbody>\n",
       "</table>\n",
       "</div>"
      ],
      "text/plain": [
       "              Date/Time  Temp (C)  Dew Point Temp (C)  Rel Hum (%)  \\\n",
       "10  2012-01-01 10:00:00      -1.0                -2.3           91   \n",
       "11  2012-01-01 11:00:00      -0.5                -2.1           89   \n",
       "12  2012-01-01 12:00:00      -0.2                -2.0           88   \n",
       "\n",
       "    Wind Spd (km/h)  Visibility (km)  Stn Press (kPa) Weather  \n",
       "10                9              1.2           101.15     Fog  \n",
       "11                7              4.0           100.98     Fog  \n",
       "12                9              4.8           100.79     Fog  "
      ]
     },
     "execution_count": 9,
     "metadata": {},
     "output_type": "execute_result"
    }
   ],
   "source": [
    "weather.iloc[10:13]"
   ]
  },
  {
   "cell_type": "markdown",
   "metadata": {},
   "source": [
    "We also might want to select multiple columns. We can do that like this:"
   ]
  },
  {
   "cell_type": "code",
   "execution_count": null,
   "metadata": {
    "ExecuteTime": {
     "end_time": "2017-11-14T16:47:27.936965Z",
     "start_time": "2017-11-14T16:47:27.927751Z"
    }
   },
   "outputs": [],
   "source": [
    "weather[['Temp (C)',\"Dew Point Temp (C)\"]].head()"
   ]
  },
  {
   "cell_type": "markdown",
   "metadata": {},
   "source": [
    "That should be enough to get us started with Pandas... now let's move on to our case study, and we'll learn more about Pandas on the way."
   ]
  },
  {
   "cell_type": "markdown",
   "metadata": {
    "run_control": {
     "frozen": false,
     "read_only": false
    }
   },
   "source": [
    "## Building Regression Models with Scikit-Learn\n",
    "\n",
    "In this section, we will walk through how to build regression models in scikit-learn.\n",
    "\n",
    "We will load in a the Ames Housing Data, split into train and test sets, and build some models.\n",
    "\n",
    "Using the Ames Housing Data:\n",
    "\n",
    "Dean De Cock\n",
    "Truman State University\n",
    "Journal of Statistics Education Volume 19, Number 3(2011), www.amstat.org/publications/jse/v19n3/decock.pdf\n",
    "\n"
   ]
  },
  {
   "cell_type": "code",
   "execution_count": null,
   "metadata": {
    "ExecuteTime": {
     "end_time": "2017-11-14T16:47:39.784951Z",
     "start_time": "2017-11-14T16:47:39.781871Z"
    },
    "collapsed": true,
    "run_control": {
     "frozen": false,
     "read_only": false
    }
   },
   "outputs": [],
   "source": [
    "datafile = \"./data/Ames_Housing_Data.tsv\""
   ]
  },
  {
   "cell_type": "code",
   "execution_count": null,
   "metadata": {
    "ExecuteTime": {
     "end_time": "2017-11-14T16:47:40.496915Z",
     "start_time": "2017-11-14T16:47:40.461023Z"
    },
    "collapsed": true,
    "run_control": {
     "frozen": false,
     "read_only": false
    }
   },
   "outputs": [],
   "source": [
    "df=pd.read_csv(datafile, sep='\\t')"
   ]
  },
  {
   "cell_type": "code",
   "execution_count": null,
   "metadata": {
    "ExecuteTime": {
     "end_time": "2017-11-14T16:47:41.132005Z",
     "start_time": "2017-11-14T16:47:41.111208Z"
    },
    "run_control": {
     "frozen": false,
     "read_only": false
    }
   },
   "outputs": [],
   "source": [
    "df.info()"
   ]
  },
  {
   "cell_type": "markdown",
   "metadata": {
    "run_control": {
     "frozen": false,
     "read_only": false
    }
   },
   "source": [
    "### Data Dictionary\n",
    "A description of the variables can be found here:\n",
    "\n",
    "https://ww2.amstat.org/publications/jse/v19n3/decock/DataDocumentation.txt\n",
    "\n"
   ]
  },
  {
   "cell_type": "markdown",
   "metadata": {
    "run_control": {
     "frozen": false,
     "read_only": false
    }
   },
   "source": [
    "### Data Cleaning\n",
    "From the above, and reading the documentation, here are a few things to note about this data set:\n",
    "- SalePrice is our target variable\n",
    "- The authors recommend removing the few houses that are >4000 SQFT (based on the 'Gr Liv Area' variable)\n",
    "- Many columns have missing data (based on the number of \"non-null\" entries in each column\n",
    "- We have many predictor variables"
   ]
  },
  {
   "cell_type": "markdown",
   "metadata": {},
   "source": [
    "** An aside about pandas **\n",
    "\n",
    "We can do filtering on the fly with pandas. Let's see what that means by looking at our weather data from above."
   ]
  },
  {
   "cell_type": "code",
   "execution_count": null,
   "metadata": {
    "ExecuteTime": {
     "end_time": "2017-11-14T16:47:49.861226Z",
     "start_time": "2017-11-14T16:47:49.846292Z"
    }
   },
   "outputs": [],
   "source": [
    "weather_test = weather[weather['Temp (C)'] == -1.8]\n",
    "weather_test.head(10)"
   ]
  },
  {
   "cell_type": "markdown",
   "metadata": {},
   "source": [
    "We can can pandas to only show us rows where some condition is true. In this case, we asked to only show when the temerature was -1.8 degrees Celsius. We can do the same type of thing with any conditions!\n",
    "\n",
    "Now back to the housing data!"
   ]
  },
  {
   "cell_type": "markdown",
   "metadata": {},
   "source": [
    "### Challenge 1: Remove all houses that are greater than 4000 sqft with filtering"
   ]
  },
  {
   "cell_type": "code",
   "execution_count": null,
   "metadata": {
    "collapsed": true
   },
   "outputs": [],
   "source": []
  },
  {
   "cell_type": "markdown",
   "metadata": {
    "run_control": {
     "frozen": false,
     "read_only": false
    }
   },
   "source": [
    "- How many data points did we remove from the data set?"
   ]
  },
  {
   "cell_type": "code",
   "execution_count": null,
   "metadata": {
    "ExecuteTime": {
     "end_time": "2017-11-14T16:48:10.447656Z",
     "start_time": "2017-11-14T16:48:10.444275Z"
    },
    "collapsed": true,
    "run_control": {
     "frozen": false,
     "read_only": false
    }
   },
   "outputs": [],
   "source": [
    "## Next, let's restrict ourselves to just a few variables to get started"
   ]
  },
  {
   "cell_type": "code",
   "execution_count": null,
   "metadata": {
    "ExecuteTime": {
     "end_time": "2017-11-13T20:43:52.626748Z",
     "start_time": "2017-11-13T20:43:52.620716Z"
    },
    "collapsed": true,
    "run_control": {
     "frozen": false,
     "read_only": false
    }
   },
   "outputs": [],
   "source": [
    "smaller_df= df[['Lot Area','Overall Qual',\n",
    "       'Overall Cond', 'Year Built', 'Year Remod/Add',\n",
    "        'Gr Liv Area', \n",
    "        'Full Bath', 'Bedroom AbvGr',\n",
    "        'Fireplaces', 'Garage Cars','SalePrice']]"
   ]
  },
  {
   "cell_type": "code",
   "execution_count": null,
   "metadata": {
    "ExecuteTime": {
     "end_time": "2017-11-13T20:43:56.224712Z",
     "start_time": "2017-11-13T20:43:56.190102Z"
    },
    "run_control": {
     "frozen": false,
     "read_only": false
    }
   },
   "outputs": [],
   "source": [
    "## Let's have a look at these variables\n",
    "\n",
    "smaller_df.describe()"
   ]
  },
  {
   "cell_type": "code",
   "execution_count": null,
   "metadata": {
    "ExecuteTime": {
     "end_time": "2017-11-13T20:43:59.016652Z",
     "start_time": "2017-11-13T20:43:59.007353Z"
    },
    "run_control": {
     "frozen": false,
     "read_only": false
    }
   },
   "outputs": [],
   "source": [
    "smaller_df.info()"
   ]
  },
  {
   "cell_type": "code",
   "execution_count": null,
   "metadata": {
    "ExecuteTime": {
     "end_time": "2017-11-14T15:50:31.174224Z",
     "start_time": "2017-11-14T15:50:31.169504Z"
    },
    "collapsed": true,
    "run_control": {
     "frozen": false,
     "read_only": false
    }
   },
   "outputs": [],
   "source": [
    "# There appears to be one NA in Garage Cars - fill with 0\n",
    "smaller_df = smaller_df.fillna(0)"
   ]
  },
  {
   "cell_type": "code",
   "execution_count": null,
   "metadata": {
    "ExecuteTime": {
     "end_time": "2017-11-14T15:50:31.816379Z",
     "start_time": "2017-11-14T15:50:31.804765Z"
    },
    "run_control": {
     "frozen": false,
     "read_only": false
    }
   },
   "outputs": [],
   "source": [
    "smaller_df.info()"
   ]
  },
  {
   "cell_type": "code",
   "execution_count": null,
   "metadata": {
    "ExecuteTime": {
     "end_time": "2017-11-14T15:50:54.584354Z",
     "start_time": "2017-11-14T15:50:33.076265Z"
    },
    "run_control": {
     "frozen": false,
     "read_only": false
    }
   },
   "outputs": [],
   "source": [
    "## Let's do a pairplot with seaborn to get a sense of the variables in this data set\n",
    "sns.pairplot(smaller_df)"
   ]
  },
  {
   "cell_type": "markdown",
   "metadata": {
    "collapsed": true,
    "run_control": {
     "frozen": false,
     "read_only": false
    }
   },
   "source": [
    "### Comprehension question\n",
    "From the pairplot above:\n",
    "\n",
    "- Which variables seem to have the strongest correlations with SalePrice?"
   ]
  },
  {
   "cell_type": "code",
   "execution_count": null,
   "metadata": {
    "ExecuteTime": {
     "end_time": "2017-11-14T15:50:54.595350Z",
     "start_time": "2017-11-14T15:50:54.587282Z"
    },
    "collapsed": true,
    "run_control": {
     "frozen": false,
     "read_only": false
    }
   },
   "outputs": [],
   "source": [
    "# Let's make a X and y for our predictors and target, respectively\n",
    "\n",
    "X=smaller_df[['Lot Area','Overall Qual',\n",
    "       'Overall Cond', 'Year Built', 'Year Remod/Add',\n",
    "        'Gr Liv Area', \n",
    "        'Full Bath', 'Bedroom AbvGr',\n",
    "        'Fireplaces', 'Garage Cars']]\n",
    "\n",
    "y=smaller_df['SalePrice']"
   ]
  },
  {
   "cell_type": "markdown",
   "metadata": {
    "run_control": {
     "frozen": false,
     "read_only": false
    }
   },
   "source": [
    "### Train - Test Splits"
   ]
  },
  {
   "cell_type": "markdown",
   "metadata": {
    "run_control": {
     "frozen": false,
     "read_only": false
    }
   },
   "source": [
    "Train-test splitting is a big part of the data science pipeline. The reason being, we're always trying to build models that perform well \"in the wild.\" This means that in order to evaluate our model's performance, we need to test it on data that we didn't use when building the model. This means we often want to cut out some section of our data before we do any model-building; to save for use as a \"evaluator\" of how our model performs on data it's never seen before. \n",
    "\n",
    "<img src=\"train_test_split.png\">\n",
    "\n",
    "In SkLearn, we use `train_test_split` to do this, which allows us to randomly sample the data instead of taking one big chunk. "
   ]
  },
  {
   "cell_type": "code",
   "execution_count": null,
   "metadata": {
    "ExecuteTime": {
     "end_time": "2017-11-13T20:49:20.320597Z",
     "start_time": "2017-11-13T20:49:20.281859Z"
    },
    "collapsed": true,
    "run_control": {
     "frozen": false,
     "read_only": false
    }
   },
   "outputs": [],
   "source": [
    "from sklearn.model_selection import train_test_split"
   ]
  },
  {
   "cell_type": "code",
   "execution_count": null,
   "metadata": {
    "ExecuteTime": {
     "end_time": "2017-11-13T20:49:20.836393Z",
     "start_time": "2017-11-13T20:49:20.828664Z"
    },
    "collapsed": true,
    "run_control": {
     "frozen": false,
     "read_only": false
    }
   },
   "outputs": [],
   "source": [
    "#Split the data 70-30 train/test\n",
    "X_train, X_test, y_train, y_test = train_test_split(X, y, test_size=0.3,random_state=42)"
   ]
  },
  {
   "cell_type": "code",
   "execution_count": null,
   "metadata": {
    "ExecuteTime": {
     "end_time": "2017-11-13T20:49:21.811413Z",
     "start_time": "2017-11-13T20:49:21.805561Z"
    },
    "run_control": {
     "frozen": false,
     "read_only": false
    }
   },
   "outputs": [],
   "source": [
    "X_train.shape, X_test.shape"
   ]
  },
  {
   "cell_type": "code",
   "execution_count": null,
   "metadata": {
    "ExecuteTime": {
     "end_time": "2017-11-13T20:49:25.012063Z",
     "start_time": "2017-11-13T20:49:25.006818Z"
    },
    "run_control": {
     "frozen": false,
     "read_only": false
    }
   },
   "outputs": [],
   "source": [
    "X_train.columns"
   ]
  },
  {
   "cell_type": "markdown",
   "metadata": {
    "run_control": {
     "frozen": false,
     "read_only": false
    }
   },
   "source": [
    "## Linear Regression\n",
    "In the first part of this notebook we will use linear regression.  We will start with a simple one-variable linear regression and then proceed to more complicated models."
   ]
  },
  {
   "cell_type": "code",
   "execution_count": null,
   "metadata": {
    "ExecuteTime": {
     "end_time": "2017-11-13T20:49:29.740112Z",
     "start_time": "2017-11-13T20:49:29.698169Z"
    },
    "collapsed": true,
    "run_control": {
     "frozen": false,
     "read_only": false
    }
   },
   "outputs": [],
   "source": [
    "from sklearn.linear_model import LinearRegression"
   ]
  },
  {
   "cell_type": "code",
   "execution_count": null,
   "metadata": {
    "ExecuteTime": {
     "end_time": "2017-11-13T20:49:31.194020Z",
     "start_time": "2017-11-13T20:49:31.190941Z"
    },
    "collapsed": true,
    "run_control": {
     "frozen": false,
     "read_only": false
    }
   },
   "outputs": [],
   "source": [
    "# First let us fit only on Living Area (sqft)\n",
    "selected_columns_1 = ['Gr Liv Area']"
   ]
  },
  {
   "cell_type": "markdown",
   "metadata": {
    "run_control": {
     "frozen": false,
     "read_only": false
    }
   },
   "source": [
    "### Sklearn Modeling\n",
    "The package scikit-learn has a particular structure to their predictive modeling functionality.  Typically, a model is \"defined\" then it is \"fit\" (to a set of examples with their answers).  Then the trained model can be used to predict on a set of (unlabeled) data points.  We will walk through this process in the next few cells."
   ]
  },
  {
   "cell_type": "code",
   "execution_count": null,
   "metadata": {
    "ExecuteTime": {
     "end_time": "2017-11-13T20:49:40.607761Z",
     "start_time": "2017-11-13T20:49:40.478740Z"
    },
    "run_control": {
     "frozen": false,
     "read_only": false
    }
   },
   "outputs": [],
   "source": [
    "## First we define a `default` LinearRegression model and fit it to the data (with just `Gr Liv Area' as a predictor\n",
    "## and SalePrice as the targer.)\n",
    "\n",
    "lr_model1 = LinearRegression()\n",
    "lr_model1.fit(X_train[selected_columns_1],y_train)"
   ]
  },
  {
   "cell_type": "code",
   "execution_count": null,
   "metadata": {
    "ExecuteTime": {
     "end_time": "2017-11-13T20:49:42.553810Z",
     "start_time": "2017-11-13T20:49:42.545103Z"
    },
    "run_control": {
     "frozen": false,
     "read_only": false
    }
   },
   "outputs": [],
   "source": [
    "## Let us look at the (single) variable coefficient and the intercept\n",
    "lr_model1.coef_, lr_model1.intercept_"
   ]
  },
  {
   "cell_type": "markdown",
   "metadata": {
    "run_control": {
     "frozen": false,
     "read_only": false
    }
   },
   "source": [
    "### Comprehension Question\n",
    "- What would this simple model predict as the sales price of a 1000 sq ft home?\n",
    "- Does that seem reasonable? (Remember, these are house prices in Ames, Iowa between 2006 and 2010)"
   ]
  },
  {
   "cell_type": "markdown",
   "metadata": {
    "run_control": {
     "frozen": false,
     "read_only": false
    }
   },
   "source": [
    "## Plotting the Regression Line\n",
    "Let's use our knowledge of Matplotlib/Seaborn to make some plots of this data"
   ]
  },
  {
   "cell_type": "code",
   "execution_count": null,
   "metadata": {
    "ExecuteTime": {
     "end_time": "2017-11-13T20:50:36.519232Z",
     "start_time": "2017-11-13T20:50:36.307260Z"
    },
    "run_control": {
     "frozen": false,
     "read_only": false
    }
   },
   "outputs": [],
   "source": [
    "# TO DO: Make a scatterplot of the sales price (y-axis) vs the sq footage (x-axis) of the training data\n",
    "# Then, plot the regression line we just computed over the data\n",
    "\n",
    "plt.figure(figsize=(10,8))\n",
    "plt.scatter(X_train['Gr Liv Area'],y_train,alpha=.1)\n",
    "vec1 = np.linspace(0,4000,1000)\n",
    "plt.plot(vec1, lr_model1.intercept_ + lr_model1.coef_[0]*vec1,'r')\n",
    "plt.title(\"Housing Prices in Ames Iowa by Sq Ft (Training Set)\")\n",
    "plt.xlabel(\"Sq ft of home\")\n",
    "plt.ylabel(\"Price of home\");"
   ]
  },
  {
   "cell_type": "code",
   "execution_count": null,
   "metadata": {
    "ExecuteTime": {
     "end_time": "2017-11-13T20:50:51.297705Z",
     "start_time": "2017-11-13T20:50:51.119169Z"
    },
    "run_control": {
     "frozen": false,
     "read_only": false
    }
   },
   "outputs": [],
   "source": [
    "# Let's make a similar plot for the test set\n",
    "\n",
    "plt.figure(figsize=(10,8))\n",
    "plt.scatter(X_test['Gr Liv Area'],y_test,alpha=.1)\n",
    "vec1 = np.linspace(0,4000,1000)\n",
    "plt.plot(vec1, lr_model1.intercept_ + lr_model1.coef_[0]*vec1,'r')\n",
    "plt.title(\"Housing Prices in Ames Iowa by Sq Ft (Test Set)\")\n",
    "plt.xlabel(\"Sq ft of home\")\n",
    "plt.ylabel(\"Price of home\");\n",
    "\n"
   ]
  },
  {
   "cell_type": "code",
   "execution_count": null,
   "metadata": {
    "ExecuteTime": {
     "end_time": "2017-11-13T20:51:10.122472Z",
     "start_time": "2017-11-13T20:51:10.115153Z"
    },
    "collapsed": true,
    "run_control": {
     "frozen": false,
     "read_only": false
    }
   },
   "outputs": [],
   "source": [
    "# Let's get predictions of the model both on the training set and on the test set\n",
    "# Note the use of the `model.predict(feature_matrix)` syntax\n",
    "\n",
    "train_set_pred1 = lr_model1.predict(X_train[selected_columns_1])\n",
    "test_set_pred1 = lr_model1.predict(X_test[selected_columns_1])"
   ]
  },
  {
   "cell_type": "code",
   "execution_count": null,
   "metadata": {
    "ExecuteTime": {
     "end_time": "2017-11-13T20:51:15.528076Z",
     "start_time": "2017-11-13T20:51:15.360823Z"
    },
    "run_control": {
     "frozen": false,
     "read_only": false
    }
   },
   "outputs": [],
   "source": [
    "## Let's plot the actual vs expected house price (along with the line x=y for reference)\n",
    "plt.figure(figsize=(10,8))\n",
    "plt.scatter(test_set_pred1,y_test,alpha=.1)\n",
    "plt.plot(np.linspace(0,600000,1000),np.linspace(0,600000,1000))"
   ]
  },
  {
   "cell_type": "code",
   "execution_count": null,
   "metadata": {
    "ExecuteTime": {
     "end_time": "2017-11-13T20:52:07.206028Z",
     "start_time": "2017-11-13T20:52:07.198481Z"
    },
    "run_control": {
     "frozen": false,
     "read_only": false
    }
   },
   "outputs": [],
   "source": [
    "# How good is our model on the test set?\n",
    "\n",
    "# Mean Squared Error\n",
    "def mean_square_error(true, pred):\n",
    "    return np.mean((pred - true)**2)\n",
    "\n",
    "mean_square_error(y_test,test_set_pred1)"
   ]
  },
  {
   "cell_type": "code",
   "execution_count": null,
   "metadata": {
    "ExecuteTime": {
     "end_time": "2017-11-13T20:52:47.733091Z",
     "start_time": "2017-11-13T20:52:47.726146Z"
    },
    "run_control": {
     "frozen": false,
     "read_only": false
    }
   },
   "outputs": [],
   "source": [
    "# Root Mean Square Error\n",
    "def root_mean_square_error(true,pred):\n",
    "    return np.sqrt(mean_square_error(true,pred))\n",
    "\n",
    "root_mean_square_error(y_test,test_set_pred1)"
   ]
  },
  {
   "cell_type": "code",
   "execution_count": null,
   "metadata": {
    "ExecuteTime": {
     "end_time": "2017-11-13T20:53:23.017219Z",
     "start_time": "2017-11-13T20:53:23.005358Z"
    },
    "run_control": {
     "frozen": false,
     "read_only": false
    }
   },
   "outputs": [],
   "source": [
    "# Mean Absolute Deviation\n",
    "def mean_absolute_deviation(true,pred):\n",
    "    return np.mean(np.abs(pred - true))\n",
    "\n",
    "mean_absolute_deviation(y_test, test_set_pred1)"
   ]
  },
  {
   "cell_type": "code",
   "execution_count": null,
   "metadata": {
    "ExecuteTime": {
     "end_time": "2017-11-13T20:54:10.069327Z",
     "start_time": "2017-11-13T20:54:10.059571Z"
    },
    "run_control": {
     "frozen": false,
     "read_only": false
    }
   },
   "outputs": [],
   "source": [
    "# R^2\n",
    "def R2_score(true,pred):\n",
    "    y_bar_test = np.mean(true)\n",
    "    SSE = np.sum((pred - true)**2)\n",
    "    SST = np.sum((true - y_bar_test)**2)\n",
    "    return 1.-SSE/SST\n",
    "\n",
    "R2_score(y_test, test_set_pred1)"
   ]
  },
  {
   "cell_type": "code",
   "execution_count": null,
   "metadata": {
    "collapsed": true,
    "run_control": {
     "frozen": false,
     "read_only": false
    }
   },
   "outputs": [],
   "source": [
    "## Now let's use another variable"
   ]
  },
  {
   "cell_type": "code",
   "execution_count": null,
   "metadata": {
    "ExecuteTime": {
     "end_time": "2017-11-13T20:54:38.439946Z",
     "start_time": "2017-11-13T20:54:38.435900Z"
    },
    "collapsed": true,
    "run_control": {
     "frozen": false,
     "read_only": false
    }
   },
   "outputs": [],
   "source": [
    "selected_columns_2 = ['Lot Area', 'Overall Qual']"
   ]
  },
  {
   "cell_type": "code",
   "execution_count": null,
   "metadata": {
    "ExecuteTime": {
     "end_time": "2017-11-13T20:54:38.973000Z",
     "start_time": "2017-11-13T20:54:38.960823Z"
    },
    "run_control": {
     "frozen": false,
     "read_only": false
    }
   },
   "outputs": [],
   "source": [
    "lr_model2 = LinearRegression()\n",
    "lr_model2.fit(X_train[selected_columns_2],y_train)"
   ]
  },
  {
   "cell_type": "code",
   "execution_count": null,
   "metadata": {
    "ExecuteTime": {
     "end_time": "2017-11-13T20:54:40.682387Z",
     "start_time": "2017-11-13T20:54:40.676732Z"
    },
    "run_control": {
     "frozen": false,
     "read_only": false
    }
   },
   "outputs": [],
   "source": [
    "lr_model2.coef_"
   ]
  },
  {
   "cell_type": "code",
   "execution_count": null,
   "metadata": {
    "ExecuteTime": {
     "end_time": "2017-11-13T20:54:45.042751Z",
     "start_time": "2017-11-13T20:54:45.037476Z"
    },
    "run_control": {
     "frozen": false,
     "read_only": false
    }
   },
   "outputs": [],
   "source": [
    "## This is a hack to show the variables next to their values\n",
    "list(zip(selected_columns_2,lr_model2.coef_))"
   ]
  },
  {
   "cell_type": "code",
   "execution_count": null,
   "metadata": {
    "ExecuteTime": {
     "end_time": "2017-11-13T20:54:53.969937Z",
     "start_time": "2017-11-13T20:54:53.965204Z"
    },
    "collapsed": true,
    "run_control": {
     "frozen": false,
     "read_only": false
    }
   },
   "outputs": [],
   "source": [
    "test_set_pred2 = lr_model2.predict(X_test[selected_columns_2])"
   ]
  },
  {
   "cell_type": "code",
   "execution_count": null,
   "metadata": {
    "ExecuteTime": {
     "end_time": "2017-11-13T20:55:12.211079Z",
     "start_time": "2017-11-13T20:55:12.057978Z"
    },
    "run_control": {
     "frozen": false,
     "read_only": false
    }
   },
   "outputs": [],
   "source": [
    "plt.figure(figsize=(10,6))\n",
    "plt.scatter(test_set_pred2,y_test,alpha=.2)\n",
    "plt.plot(np.linspace(0,600000,1000),np.linspace(0,600000,1000));"
   ]
  },
  {
   "cell_type": "code",
   "execution_count": null,
   "metadata": {
    "ExecuteTime": {
     "end_time": "2017-11-13T20:55:32.917220Z",
     "start_time": "2017-11-13T20:55:32.910553Z"
    },
    "run_control": {
     "frozen": false,
     "read_only": false
    }
   },
   "outputs": [],
   "source": [
    "root_mean_square_error(y_test,test_set_pred2)"
   ]
  },
  {
   "cell_type": "code",
   "execution_count": null,
   "metadata": {
    "ExecuteTime": {
     "end_time": "2017-11-13T20:55:48.366744Z",
     "start_time": "2017-11-13T20:55:48.361255Z"
    },
    "run_control": {
     "frozen": false,
     "read_only": false
    }
   },
   "outputs": [],
   "source": [
    "#MAD\n",
    "mean_absolute_deviation(y_test,test_set_pred2)"
   ]
  },
  {
   "cell_type": "code",
   "execution_count": null,
   "metadata": {
    "ExecuteTime": {
     "end_time": "2017-11-13T20:55:57.432916Z",
     "start_time": "2017-11-13T20:55:57.426933Z"
    },
    "run_control": {
     "frozen": false,
     "read_only": false
    }
   },
   "outputs": [],
   "source": [
    "R2_score(y_test,test_set_pred2)"
   ]
  },
  {
   "cell_type": "markdown",
   "metadata": {
    "run_control": {
     "frozen": false,
     "read_only": false
    }
   },
   "source": [
    "### Feature Engineering\n",
    "Since there seems to be some non-linearity, let's make a new variable that is \"Greater Living Area\"^2. This is called feature engineering since we're \"engineering (or making)\" a new feature out of our old features."
   ]
  },
  {
   "cell_type": "code",
   "execution_count": null,
   "metadata": {
    "ExecuteTime": {
     "end_time": "2017-11-13T23:09:03.776347Z",
     "start_time": "2017-11-13T23:09:03.768413Z"
    },
    "run_control": {
     "frozen": false,
     "read_only": false
    }
   },
   "outputs": [],
   "source": [
    "X['GLA2'] = X['Gr Liv Area']**2\n",
    "X.columns"
   ]
  },
  {
   "cell_type": "code",
   "execution_count": null,
   "metadata": {
    "ExecuteTime": {
     "end_time": "2017-11-13T23:09:07.530987Z",
     "start_time": "2017-11-13T23:09:07.524139Z"
    },
    "collapsed": true,
    "run_control": {
     "frozen": false,
     "read_only": false
    }
   },
   "outputs": [],
   "source": [
    "## We need to recreate the train and test sets -- make sure you use the same random seed!\n",
    "#Split the data 70-30 train/test\n",
    "\n",
    "X_train, X_test, y_train, y_test = train_test_split(X, y, test_size=0.3,random_state=42)"
   ]
  },
  {
   "cell_type": "code",
   "execution_count": null,
   "metadata": {
    "ExecuteTime": {
     "end_time": "2017-11-13T23:09:09.131191Z",
     "start_time": "2017-11-13T23:09:09.127581Z"
    },
    "collapsed": true,
    "run_control": {
     "frozen": false,
     "read_only": false
    }
   },
   "outputs": [],
   "source": [
    "selected_columns_3 = ['Lot Area', 'Overall Qual', 'GLA2']"
   ]
  },
  {
   "cell_type": "code",
   "execution_count": null,
   "metadata": {
    "ExecuteTime": {
     "end_time": "2017-11-13T23:09:09.385229Z",
     "start_time": "2017-11-13T23:09:09.375357Z"
    },
    "run_control": {
     "frozen": false,
     "read_only": false
    }
   },
   "outputs": [],
   "source": [
    "lr_model3 = LinearRegression()\n",
    "lr_model3.fit(X_train[selected_columns_3],y_train)"
   ]
  },
  {
   "cell_type": "code",
   "execution_count": null,
   "metadata": {
    "ExecuteTime": {
     "end_time": "2017-11-13T23:09:10.106940Z",
     "start_time": "2017-11-13T23:09:10.100217Z"
    },
    "run_control": {
     "frozen": false,
     "read_only": false
    }
   },
   "outputs": [],
   "source": [
    "list(zip(X_train[selected_columns_3].columns,lr_model3.coef_))"
   ]
  },
  {
   "cell_type": "code",
   "execution_count": null,
   "metadata": {
    "ExecuteTime": {
     "end_time": "2017-11-13T23:09:12.396332Z",
     "start_time": "2017-11-13T23:09:12.391942Z"
    },
    "collapsed": true,
    "run_control": {
     "frozen": false,
     "read_only": false
    }
   },
   "outputs": [],
   "source": [
    "test_set_pred3 = lr_model3.predict(X_test[selected_columns_3])"
   ]
  },
  {
   "cell_type": "code",
   "execution_count": null,
   "metadata": {
    "ExecuteTime": {
     "end_time": "2017-11-13T23:09:13.066024Z",
     "start_time": "2017-11-13T23:09:12.879352Z"
    },
    "run_control": {
     "frozen": false,
     "read_only": false
    }
   },
   "outputs": [],
   "source": [
    "plt.figure(figsize=(10,6))\n",
    "plt.scatter(test_set_pred3,y_test,alpha=.1)\n",
    "plt.plot(np.linspace(0,600000,1000),np.linspace(0,600000,1000));"
   ]
  },
  {
   "cell_type": "code",
   "execution_count": null,
   "metadata": {
    "ExecuteTime": {
     "end_time": "2017-11-13T23:09:25.461417Z",
     "start_time": "2017-11-13T23:09:25.455291Z"
    },
    "run_control": {
     "frozen": false,
     "read_only": false
    }
   },
   "outputs": [],
   "source": [
    "#RMSE\n",
    "root_mean_square_error(y_test,test_set_pred3)"
   ]
  },
  {
   "cell_type": "code",
   "execution_count": null,
   "metadata": {
    "ExecuteTime": {
     "end_time": "2017-11-13T23:09:50.512534Z",
     "start_time": "2017-11-13T23:09:50.506560Z"
    },
    "run_control": {
     "frozen": false,
     "read_only": false
    }
   },
   "outputs": [],
   "source": [
    "#MAD\n",
    "mean_absolute_deviation(y_test,test_set_pred3)"
   ]
  },
  {
   "cell_type": "code",
   "execution_count": null,
   "metadata": {
    "ExecuteTime": {
     "end_time": "2017-11-13T23:10:11.247520Z",
     "start_time": "2017-11-13T23:10:11.241476Z"
    },
    "run_control": {
     "frozen": false,
     "read_only": false
    }
   },
   "outputs": [],
   "source": [
    "#R-squared\n",
    "R2_score(y_test,test_set_pred3)"
   ]
  },
  {
   "cell_type": "code",
   "execution_count": null,
   "metadata": {
    "collapsed": true,
    "run_control": {
     "frozen": false,
     "read_only": false
    }
   },
   "outputs": [],
   "source": []
  },
  {
   "cell_type": "markdown",
   "metadata": {
    "run_control": {
     "frozen": false,
     "read_only": false
    }
   },
   "source": [
    "## Exercise\n",
    "\n",
    "We're now going to split into groups. Each group should attempt to build the best model they can using the techniques shown above. Some recommendations:\n",
    "\n",
    "* Add some of the features we removed. But be careful, we haven't talked about how to handle categorical data, so your model won't work with categories.\n",
    "* Do some feature engineering. We played with GLA^2, but there are more variables you can try things with. You might also try multiplying some features together to see if there are \"interaction\" terms.\n",
    "* We've looked at the SkLearn Documentation, so you might also consider trying some different Regression Models - like RandomForestRegressor. Be careful though, you can't just plug-and-play some of the models into the exact same code. They don't all have coefficients for instance...\n",
    "\n",
    "Go wild. After we finish up, each group will have a chance to describe what sort of work they tried and how their model performed!"
   ]
  },
  {
   "cell_type": "code",
   "execution_count": null,
   "metadata": {
    "collapsed": true
   },
   "outputs": [],
   "source": []
  }
 ],
 "metadata": {
  "kernelspec": {
   "display_name": "Python 3",
   "language": "python",
   "name": "python3"
  },
  "language_info": {
   "codemirror_mode": {
    "name": "ipython",
    "version": 3
   },
   "file_extension": ".py",
   "mimetype": "text/x-python",
   "name": "python",
   "nbconvert_exporter": "python",
   "pygments_lexer": "ipython3",
   "version": "3.6.3"
  },
  "latex_envs": {
   "LaTeX_envs_menu_present": true,
   "bibliofile": "biblio.bib",
   "cite_by": "apalike",
   "current_citInitial": 1,
   "eqLabelWithNumbers": true,
   "eqNumInitial": 1,
   "hotkeys": {
    "equation": "Ctrl-E",
    "itemize": "Ctrl-I"
   },
   "labels_anchors": false,
   "latex_user_defs": false,
   "report_style_numbering": false,
   "user_envs_cfg": false
  },
  "toc": {
   "nav_menu": {
    "height": "282px",
    "width": "252px"
   },
   "number_sections": true,
   "sideBar": true,
   "skip_h1_title": false,
   "toc_cell": false,
   "toc_position": {},
   "toc_section_display": "block",
   "toc_window_display": false
  }
 },
 "nbformat": 4,
 "nbformat_minor": 1
}
